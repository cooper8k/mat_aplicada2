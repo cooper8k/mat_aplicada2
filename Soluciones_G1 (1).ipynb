{
  "cells": [
    {
      "cell_type": "markdown",
      "metadata": {
        "id": "xXjhMBMryPEY"
      },
      "source": [
        "# Problema 1"
      ]
    },
    {
      "cell_type": "markdown",
      "metadata": {
        "id": "hd5aYLdWxUrZ"
      },
      "source": [
        "Una red transmite datos a $100$ megabits por segundo. Crea una función utilizando *Python* que permita calcular la cantidad de datos transmitidos en una cierta cantidad de tiempo (en segundos). Luego utiliza la función y calcula cuántos datos se transmiten en:\n",
        "\n",
        "* $45$ segundos\n",
        "* $1,5$ minutos\n",
        "* $1$ hora\n",
        "\n"
      ]
    },
    {
      "cell_type": "markdown",
      "metadata": {
        "id": "7NE7jhN82pZO"
      },
      "source": [
        "## Solución"
      ]
    },
    {
      "cell_type": "code",
      "execution_count": 1,
      "metadata": {
        "colab": {
          "base_uri": "https://localhost:8080/"
        },
        "id": "TaqP8GfYwUc7",
        "outputId": "ce922bf9-5cb9-4e72-f45b-b1d22e0923b3"
      },
      "outputs": [
        {
          "name": "stdout",
          "output_type": "stream",
          "text": [
            "A los 45 segundos se transmiten 4500 megabits.\n",
            "A los 1,5 minutos se transmiten 9000.0 megabits.\n",
            "Transcurrida una hora se transmiten 360000 megabits.\n"
          ]
        }
      ],
      "source": [
        "def f(t):\n",
        "  return t * 100\n",
        "\n",
        "#Para 45 segundos\n",
        "print(f'A los 45 segundos se transmiten {f(45)} megabits.')\n",
        "\n",
        "#Para 1,5 minutos\n",
        "segundos = 1.5 * 60\n",
        "print(f'A los 1,5 minutos se transmiten {f(segundos)} megabits.')\n",
        "\n",
        "#Para 45 segundos\n",
        "segundos2 = 1 * 60 * 60\n",
        "print(f'Transcurrida una hora se transmiten {f(segundos2)} megabits.')"
      ]
    },
    {
      "cell_type": "markdown",
      "metadata": {
        "id": "D8XA9m7wAPMm"
      },
      "source": [
        "# Problema 2"
      ]
    },
    {
      "cell_type": "markdown",
      "metadata": {
        "id": "GAqylLb8Cu5U"
      },
      "source": [
        "Utilizando la función definida en el problema $1$, genera un listado que muestre los datos transmitidos para tiempos desde $0$ hasta $1.000$ segundos con incrementos de $100$ segundos."
      ]
    },
    {
      "cell_type": "markdown",
      "metadata": {
        "id": "smz5WOklDua2"
      },
      "source": [
        "## Solución"
      ]
    },
    {
      "cell_type": "code",
      "execution_count": null,
      "metadata": {
        "colab": {
          "base_uri": "https://localhost:8080/"
        },
        "id": "GP7NvAjSARle",
        "outputId": "4f5b6d09-831c-4630-b3ef-cbc716194906"
      },
      "outputs": [
        {
          "name": "stdout",
          "output_type": "stream",
          "text": [
            "0 s: 0 megabits\n",
            "100 s: 10000 megabits\n",
            "200 s: 20000 megabits\n",
            "300 s: 30000 megabits\n",
            "400 s: 40000 megabits\n",
            "500 s: 50000 megabits\n",
            "600 s: 60000 megabits\n",
            "700 s: 70000 megabits\n",
            "800 s: 80000 megabits\n",
            "900 s: 90000 megabits\n",
            "1000 s: 100000 megabits\n"
          ]
        }
      ],
      "source": [
        "def tabla_datos():\n",
        "  for i in range(0,1100,100):\n",
        "    print(f'{i} s: {f(i)} megabits')\n",
        "\n",
        "tabla_datos()"
      ]
    },
    {
      "cell_type": "markdown",
      "metadata": {
        "id": "Y28VfYtL2lU-"
      },
      "source": [
        "# Problema 3"
      ]
    },
    {
      "cell_type": "markdown",
      "metadata": {
        "id": "Z1-uAGdQ2xq2"
      },
      "source": [
        "La **latencia** de una red corresponde al tiempo que tarda un paquete de datos en viajar desde el punto de origen al destino. En otras palabras, es el tiempo que transcurre desde que se envía una solicitud de un dispositivo hasta que se recibe una respuesta del servidor u otro dispositivo.\n",
        "\n",
        "La latencia puede verse afectada por la velocidad de transmisión de los datos a través de los cables o conexiones inalámbricas, la distancia física entre los dispositivos, el tiempo que tarda un computador en procesar o reenviar los datos, etc.\n",
        "\n",
        "En redes de comunicación, como las videoconferencias, juegos en línea y transmisión de datos en tiempo real, es deseable una baja latencia, de lo contrario pueden existir retrasos en la comunicación y afectar negativamente la experiencia del usuario."
      ]
    },
    {
      "cell_type": "markdown",
      "metadata": {
        "id": "XFLW0fW26j83"
      },
      "source": [
        "Según el contexto mencionado, crea una función en *Python* que permita calcular la **latencia real** de una red dada una latencia estimada. Suponga que la latencia real es un $20\\%$ mayor a la latencia estimada.\n",
        "\n",
        "Calcule la latencia real para una latencia estimada de:\n",
        "\n",
        "a)   $200$ milisegundos.\n",
        "\n",
        "b)   $149$ milisegundos.\n",
        "\n",
        "c)   $74$ milisegundos.\n",
        "\n"
      ]
    },
    {
      "cell_type": "markdown",
      "metadata": {
        "id": "obFl669k7zaX"
      },
      "source": [
        "## Solución"
      ]
    },
    {
      "cell_type": "code",
      "execution_count": null,
      "metadata": {
        "colab": {
          "base_uri": "https://localhost:8080/"
        },
        "id": "x8rij1P271bF",
        "outputId": "010f8eb7-12bd-4c91-eb12-c6cc45eb0e93"
      },
      "outputs": [
        {
          "name": "stdout",
          "output_type": "stream",
          "text": [
            "Cuando la latencia estimada es 200 milisegundo, la latencia real es 222 milisegundos aproximadamente.\n",
            "Cuando la latencia estimada es 149 milisegundo, la latencia real es 131 milisegundos aproximadamente.\n",
            "Cuando la latencia estimada es 74 milisegundo, la latencia real es 65 milisegundos aproximadamente.\n"
          ]
        }
      ],
      "source": [
        "def L(e):\n",
        "  return e * 1.2\n",
        "\n",
        "latencia_estimada1 = 185\n",
        "latencia_estimada2 = 109\n",
        "latencia_estimada3 = 54\n",
        "\n",
        "print(f'Cuando la latencia estimada es 200 milisegundo, la latencia real es {L(latencia_estimada1):.0f} milisegundos aproximadamente.')\n",
        "print(f'Cuando la latencia estimada es 149 milisegundo, la latencia real es {L(latencia_estimada2):.0f} milisegundos aproximadamente.')\n",
        "print(f'Cuando la latencia estimada es 74 milisegundo, la latencia real es {L(latencia_estimada3):.0f} milisegundos aproximadamente.')\n"
      ]
    },
    {
      "cell_type": "markdown",
      "metadata": {
        "id": "LGX3xr94E-Ix"
      },
      "source": [
        "# Problema 4"
      ]
    },
    {
      "cell_type": "markdown",
      "metadata": {
        "id": "wPT1xIfVGDCQ"
      },
      "source": [
        "Como parte de un proyecto de mejora, en el año $2021$ se instaló un cable de fibra óptica que une España con EEUU. El cable tiene un largo de $6.600$ $km$ y fue colocado por un barco a una velocidad de $1,85$ $km/h$.\n",
        "\n",
        "\n",
        "\n",
        "1.   Determine la forma algebraica de la función que permite determinar el largo del cable instalado (en km) a partir del tiempo transcurrido (en horas). Utilice la instrucción *def* para definir la función en *Python*.\n",
        "2.   Defina variable dependiente e independiente, indicando unidad de medida.\n",
        "3.   Determine el dominio contextualizado de la función.\n",
        "4.   Grafique la función utilizando la biblioteca *Matplotlib* considerando el dominio contextualizado.\n",
        "5.   ¿Cuántos metros de cable se instalaron al transcurrir $148$ horas? ¿Y transcurridas $2.300$ horas?\n",
        "6.   Si se han instalado $3.480$ kilometros de cable, ¿cuántas horas llevan de trabajo?\n",
        "7.   ¿Cuánto tiempo transcurrió para que se completara la obra?\n",
        "\n",
        "\n"
      ]
    },
    {
      "cell_type": "markdown",
      "metadata": {
        "id": "FjudT7CQIfuR"
      },
      "source": [
        "## Solución"
      ]
    },
    {
      "cell_type": "markdown",
      "metadata": {
        "id": "wvl4EsR6Jd-T"
      },
      "source": [
        "**1)** La función que permite calcular el largo del cable instalado en función del tiempo es $g(t) = 1,85t$"
      ]
    },
    {
      "cell_type": "code",
      "execution_count": null,
      "metadata": {
        "id": "KmpxuYFAIhmp"
      },
      "outputs": [],
      "source": [
        "def g(t):\n",
        "  return 1.85 * t"
      ]
    },
    {
      "cell_type": "markdown",
      "metadata": {
        "id": "5gRP5VB7KdNZ"
      },
      "source": [
        "**2)**\n",
        "\n",
        "**Variable dependiente**: Largo del cable (km)\n",
        "\n",
        "**Variable independiente**: Tiempo transcurrido (horas)"
      ]
    },
    {
      "cell_type": "markdown",
      "metadata": {
        "id": "K8uxc_5kLi-h"
      },
      "source": [
        "**3)**\n",
        "\n",
        "El dominio contextualizado de la función considera el tiempo hasta que se instale todo el cable:\n",
        "\n",
        "$$g(t) = 6.600$$\n",
        "\n",
        "Entonces:\n",
        "\n",
        "$$6.600 = 1,85 t$$\n",
        "\n",
        "$$\\frac{6.600}{1,85} = t$$\n",
        "\n"
      ]
    },
    {
      "cell_type": "code",
      "execution_count": 2,
      "metadata": {
        "colab": {
          "base_uri": "https://localhost:8080/"
        },
        "id": "VorjvWqnLAhq",
        "outputId": "37c99b11-d9a1-456e-b4bd-886917730591"
      },
      "outputs": [
        {
          "name": "stdout",
          "output_type": "stream",
          "text": [
            "3567.5675675675675\n"
          ]
        }
      ],
      "source": [
        "t = 6600/1.85\n",
        "print(t)"
      ]
    },
    {
      "cell_type": "markdown",
      "metadata": {
        "id": "GeB4hiVjKz4p"
      },
      "source": [
        "$Dom$ $g(t): [0;3.567,6]$"
      ]
    },
    {
      "cell_type": "markdown",
      "metadata": {
        "id": "vPst1712QnxB"
      },
      "source": [
        "**4)** Gráfico de la función"
      ]
    },
    {
      "cell_type": "code",
      "execution_count": 1,
      "metadata": {
        "colab": {
          "base_uri": "https://localhost:8080/",
          "height": 472
        },
        "id": "JD3Xkre8Qqtv",
        "outputId": "68daa08c-7cd3-419e-ccce-5fa812f94fdb"
      },
      "outputs": [
        {
          "ename": "ModuleNotFoundError",
          "evalue": "No module named 'matplotlib'",
          "output_type": "error",
          "traceback": [
            "\u001b[1;31m---------------------------------------------------------------------------\u001b[0m",
            "\u001b[1;31mModuleNotFoundError\u001b[0m                       Traceback (most recent call last)",
            "Cell \u001b[1;32mIn[1], line 1\u001b[0m\n\u001b[1;32m----> 1\u001b[0m \u001b[38;5;28;01mimport\u001b[39;00m \u001b[38;5;21;01mmatplotlib\u001b[39;00m\u001b[38;5;21;01m.\u001b[39;00m\u001b[38;5;21;01mpyplot\u001b[39;00m \u001b[38;5;28;01mas\u001b[39;00m \u001b[38;5;21;01mplt\u001b[39;00m\n\u001b[0;32m      2\u001b[0m \u001b[38;5;28;01mimport\u001b[39;00m \u001b[38;5;21;01mnumpy\u001b[39;00m \u001b[38;5;28;01mas\u001b[39;00m \u001b[38;5;21;01mnp\u001b[39;00m\n\u001b[0;32m      4\u001b[0m t \u001b[38;5;241m=\u001b[39m np\u001b[38;5;241m.\u001b[39marange(\u001b[38;5;241m0\u001b[39m, \u001b[38;5;241m3569\u001b[39m, \u001b[38;5;241m1\u001b[39m)\n",
            "\u001b[1;31mModuleNotFoundError\u001b[0m: No module named 'matplotlib'"
          ]
        }
      ],
      "source": [
        "import matplotlib.pyplot as plt\n",
        "import numpy as np\n",
        "\n",
        "t = np.arange(0, 3569, 1)\n",
        "\n",
        "plt.plot(t, g(t))\n",
        "\n",
        "plt.title('Relación entre el largo del cable instalado y el tiempo transcurrido')\n",
        "plt.xlabel('Tiempo transcurrido (horas)')\n",
        "plt.ylabel('Largo del cable instalado (km)')\n",
        "\n",
        "plt.grid(True)\n",
        "plt.show()"
      ]
    },
    {
      "cell_type": "markdown",
      "metadata": {
        "id": "YLINi-wUNL0P"
      },
      "source": [
        "**5)**"
      ]
    },
    {
      "cell_type": "code",
      "execution_count": null,
      "metadata": {
        "colab": {
          "base_uri": "https://localhost:8080/"
        },
        "id": "TQcexY32NQug",
        "outputId": "2592b878-c4a6-4512-ef6f-7fcf30af25a5"
      },
      "outputs": [
        {
          "name": "stdout",
          "output_type": "stream",
          "text": [
            "Transcurridas 148 horas, se han instalado 273.8 km de cable y transcurridas 2300 se han instalado 4255.0 kilometros de cable.\n"
          ]
        }
      ],
      "source": [
        "#Utilizando la función definida en (1)\n",
        "tiempo_1 = 148\n",
        "tiempo_2 = 2300\n",
        "\n",
        "print(f'Transcurridas {tiempo_1} horas, se han instalado {g(tiempo_1)} km de cable y transcurridas {tiempo_2} se han instalado {g(tiempo_2)} kilometros de cable.')"
      ]
    },
    {
      "cell_type": "markdown",
      "metadata": {
        "id": "q6kCO778OuIB"
      },
      "source": [
        "**6)**\n",
        "\n",
        "$$g(t) = 3.480$$\n",
        "\n",
        "Entonces:\n",
        "\n",
        "$$3.480 = 1,85 t$$\n",
        "\n",
        "$$\\frac{3.480}{1,85} = t$$"
      ]
    },
    {
      "cell_type": "code",
      "execution_count": null,
      "metadata": {
        "colab": {
          "base_uri": "https://localhost:8080/"
        },
        "id": "ukqdL-fJPCZA",
        "outputId": "2400032f-0517-446c-c51f-46bbb7d49c75"
      },
      "outputs": [
        {
          "name": "stdout",
          "output_type": "stream",
          "text": [
            "Si se han instalado 3.480 kilometros de cable, es porque han trabajado 1881.1 horas aproximadamente.\n"
          ]
        }
      ],
      "source": [
        "t = 3480/1.85\n",
        "print(f'Si se han instalado 3.480 kilometros de cable, es porque han trabajado {t:.1f} horas aproximadamente.')"
      ]
    },
    {
      "cell_type": "markdown",
      "metadata": {
        "id": "5RRjtMi5P2ex"
      },
      "source": [
        "**7)**\n",
        "\n",
        "Transcurrieron $3.568$ horas aproximadamente en completar la obra."
      ]
    },
    {
      "cell_type": "markdown",
      "metadata": {
        "id": "FMr921rUDxvV"
      },
      "source": [
        "# Problema 5"
      ]
    },
    {
      "cell_type": "markdown",
      "metadata": {
        "id": "Iuo-QM5vGSiW"
      },
      "source": [
        "Un turista ha llegado a Santiago y desea conocer algunos lugares de la ciudad. Ha decidido visitar el Palacio de la Moneda y desde ahí trasladarse al centro comercial \"Costanera Center\", utilizando algún medio de transporte que ofrece la ciudad.\n",
        "\n",
        "Si se traslada en metro deberá abordar en estación La Moneda y bajar en la estación Tobalaba ($9$ estaciones). La función $f(t)$ permite calcular la distancia recorrida utilizando el metro (en kilómetros) transcurridos $t$ minutos.\n",
        "\n",
        "$$f(t) = 0,4t$$\n",
        "\n",
        "Si se traslada en bus, el turista podrá observar la ciudad y otros atractivos en su viaje. La función $g(t)$ permite calcular la distancia recorrida en bus (en kilómetros) transcurridos $t$ minutos.\n",
        "\n",
        "$$g(t) = 0,3t$$\n",
        "\n",
        "Según la información anterior:\n",
        "\n",
        "1. Grafique ambas funciones, indicando el nombre de cada eje junto con su unidad de medida. Para realizar el gráfico utilice la biblioteca *Matplotlib*.\n",
        "2.  Si se sabe que el metro se demora $1,2$ minutos en llegar desde una estación a otra y espera $30$ segundos en cada estación, indique el dominio contextualizado para $f(t)$.\n",
        "3. Mediante análisis gráfico, indique cuál medio de transporte es más conveniente en términos de tiempo, para el turista. Justifique.\n",
        "4.  Si se sabe que desde estación La Moneda hasta Tobalaba son aproximadamente $6$ kilómetros ¿cuántos tiempo tardará el turista en llegar a su destino con cada una de las opciones?"
      ]
    },
    {
      "cell_type": "markdown",
      "metadata": {
        "id": "onXaNecUQiE-"
      },
      "source": [
        "## Solución"
      ]
    },
    {
      "cell_type": "markdown",
      "metadata": {
        "id": "d6PXQmVKAVLe"
      },
      "source": [
        "**1)** Gráfico de la función"
      ]
    },
    {
      "cell_type": "code",
      "execution_count": 1,
      "metadata": {
        "colab": {
          "base_uri": "https://localhost:8080/",
          "height": 472
        },
        "id": "gk-2CjW_EdZF",
        "outputId": "600ecff5-d466-4785-99ef-1d3afb5b9df0"
      },
      "outputs": [
        {
          "ename": "ModuleNotFoundError",
          "evalue": "No module named 'matplotlib'",
          "output_type": "error",
          "traceback": [
            "\u001b[1;31m---------------------------------------------------------------------------\u001b[0m",
            "\u001b[1;31mModuleNotFoundError\u001b[0m                       Traceback (most recent call last)",
            "Cell \u001b[1;32mIn[1], line 1\u001b[0m\n\u001b[1;32m----> 1\u001b[0m \u001b[38;5;28;01mimport\u001b[39;00m \u001b[38;5;21;01mmatplotlib\u001b[39;00m\u001b[38;5;21;01m.\u001b[39;00m\u001b[38;5;21;01mpyplot\u001b[39;00m \u001b[38;5;28;01mas\u001b[39;00m \u001b[38;5;21;01mplt\u001b[39;00m\n\u001b[0;32m      2\u001b[0m \u001b[38;5;28;01mimport\u001b[39;00m \u001b[38;5;21;01mnumpy\u001b[39;00m \u001b[38;5;28;01mas\u001b[39;00m \u001b[38;5;21;01mnp\u001b[39;00m\n\u001b[0;32m      4\u001b[0m tiempo \u001b[38;5;241m=\u001b[39m np\u001b[38;5;241m.\u001b[39marange(\u001b[38;5;241m0\u001b[39m, \u001b[38;5;241m15\u001b[39m, \u001b[38;5;241m0.1\u001b[39m)\n",
            "\u001b[1;31mModuleNotFoundError\u001b[0m: No module named 'matplotlib'"
          ]
        }
      ],
      "source": [
        "import matplotlib.pyplot as plt\n",
        "import numpy as np\n",
        "\n",
        "tiempo = np.arange(0, 15, 0.1)\n",
        "metro = 0.4 * tiempo\n",
        "bus = 0.3 * tiempo\n",
        "\n",
        "plt.plot(tiempo, metro, label = 'Metro')\n",
        "plt.plot(tiempo, bus, label = 'Bus')\n",
        "\n",
        "plt.title('Relación entre la distancia recorrida y el tiempo ')\n",
        "plt.xlabel('Tiempo (minutos)')\n",
        "plt.ylabel('Distancia recorrida (km)')\n",
        "plt.legend()\n",
        "plt.grid(True)\n",
        "\n",
        "plt.show()"
      ]
    },
    {
      "cell_type": "markdown",
      "metadata": {
        "id": "trRLos3MNiO9"
      },
      "source": [
        "**2)**"
      ]
    },
    {
      "cell_type": "code",
      "execution_count": 4,
      "metadata": {
        "colab": {
          "base_uri": "https://localhost:8080/"
        },
        "id": "Vb37LhIJpSeg",
        "outputId": "6128d6bd-5bfa-4292-d651-a0221e8e6c6c"
      },
      "outputs": [
        {
          "name": "stdout",
          "output_type": "stream",
          "text": [
            "El extremo superior del dominio es 14.8.\n"
          ]
        }
      ],
      "source": [
        "#Extremo superior del dominio\n",
        "\n",
        "t = 1.2 * 9 + 0.5 * 8\n",
        "print(f'El extremo superior del dominio es {t:.1f}.')"
      ]
    },
    {
      "cell_type": "markdown",
      "metadata": {
        "id": "y1T1Gy2pp-WT"
      },
      "source": [
        "$Dom$ $f(t) = [0; 14,8]$"
      ]
    },
    {
      "cell_type": "markdown",
      "metadata": {
        "id": "k91Z3mTGO2II"
      },
      "source": [
        "**3)** El metro es más rápido ya que se puede observar en el gráfico que para un mismo tiempo recorre más distancia."
      ]
    },
    {
      "cell_type": "markdown",
      "metadata": {
        "id": "4FifRZUiAjxJ"
      },
      "source": [
        "**4)**"
      ]
    },
    {
      "cell_type": "code",
      "execution_count": null,
      "metadata": {
        "colab": {
          "base_uri": "https://localhost:8080/"
        },
        "id": "j1Ap8rFQPHPU",
        "outputId": "c6ef0847-6a09-49fb-a9b9-719a1b02eebb"
      },
      "outputs": [
        {
          "name": "stdout",
          "output_type": "stream",
          "text": [
            "El turista tardará 15.0 minutos en metro y 20.0 minutos en bus.\n"
          ]
        }
      ],
      "source": [
        "#d)\n",
        "distancia = 6\n",
        "\n",
        "#Metro\n",
        "t1 = distancia/0.4\n",
        "\n",
        "#Bus\n",
        "\n",
        "t2 = distancia/0.3\n",
        "\n",
        "print(f'El turista tardará {t1} minutos en metro y {t2} minutos en bus.')"
      ]
    },
    {
      "cell_type": "markdown",
      "metadata": {
        "id": "C5psSJY-S9x4"
      },
      "source": [
        "# Problema 6"
      ]
    },
    {
      "cell_type": "markdown",
      "metadata": {
        "id": "0v3a4hJATUgX"
      },
      "source": [
        "La temperatura de un servidor (en °C) puede ser modelada mediante la función\n",
        "\n",
        "$$T(t) = -0,5 t^{2} + 3 t + 20$$\n",
        "\n",
        "donde $t$ corresponde al tiempo transcurrido (en horas) en un día laboral. Considere que la jornada laboral comienza a las 08:00 horas y termina a las 17:00 horas.\n",
        "\n",
        "1.  Defina variable dependiente e independiente, indicando unidad de medida.\n",
        "2.  Determine el dominio contextualizado del problema.\n",
        "3.  Grafique la función utilizando *Python*.\n",
        "4.  Mediante un análisis gráfico, estime cuándo el servidor alcanza la máxima temperatura y calcule cuánto es.\n",
        "5.  Determine la temperatura del servidor a las 13:00 horas y al finalizar la jornada laboral.\n"
      ]
    },
    {
      "cell_type": "markdown",
      "metadata": {
        "id": "rTXUSNkYVLgR"
      },
      "source": [
        "## Solución"
      ]
    },
    {
      "cell_type": "markdown",
      "metadata": {
        "id": "qQfTli3ZVvG4"
      },
      "source": [
        "**1)**\n",
        "\n",
        "**Variable dependiente**: Temperatura del servidor (°C)\n",
        "\n",
        "**Variable independiente**: Tiempo transcurrido (horas)"
      ]
    },
    {
      "cell_type": "markdown",
      "metadata": {
        "id": "4beiWRCeWJJm"
      },
      "source": [
        "**2)** $Dom$ $T(t):$ $[0;9]$"
      ]
    },
    {
      "cell_type": "markdown",
      "metadata": {
        "id": "bHZYhkj2WRwg"
      },
      "source": [
        "**3)** Gráfico de la función"
      ]
    },
    {
      "cell_type": "code",
      "execution_count": null,
      "metadata": {
        "id": "Jbu-ZmzFhYdj"
      },
      "outputs": [],
      "source": [
        "def T(t):\n",
        "  return -0.5 * t**2 + 3 * t + 20"
      ]
    },
    {
      "cell_type": "code",
      "execution_count": null,
      "metadata": {
        "colab": {
          "base_uri": "https://localhost:8080/",
          "height": 472
        },
        "id": "2TfLf6ahWUCo",
        "outputId": "977e6a34-2987-49bb-b310-6ec23285aaca"
      },
      "outputs": [
        {
          "data": {
            "image/png": "[encoded data removed]",
            "text/plain": [
              "<Figure size 640x480 with 1 Axes>"
            ]
          },
          "metadata": {},
          "output_type": "display_data"
        }
      ],
      "source": [
        "import matplotlib.pyplot as plt\n",
        "import matplotlib.ticker as ticker\n",
        "import numpy as np\n",
        "\n",
        "fig, ax = plt.subplots()\n",
        "\n",
        "t = np.arange(0, 9, 0.01)\n",
        "\n",
        "plt.plot(t, T(t))\n",
        "\n",
        "plt.title('Relación entre la temperatura de un servidor y el tiempo transcurrido')\n",
        "plt.xlabel('Tiempo transcurrido (horas)')\n",
        "plt.ylabel('Temperatura del servidor (°C)')\n",
        "\n",
        "\n",
        "plt.grid(True)\n",
        "ax.xaxis.set_minor_locator(ticker.MultipleLocator(0.5))\n",
        "ax.yaxis.set_minor_locator(ticker.MultipleLocator(0.5))\n",
        "\n",
        "plt.show()"
      ]
    },
    {
      "cell_type": "markdown",
      "metadata": {
        "id": "QsAUWzzDeE24"
      },
      "source": [
        "**4)**"
      ]
    },
    {
      "cell_type": "code",
      "execution_count": null,
      "metadata": {
        "colab": {
          "base_uri": "https://localhost:8080/"
        },
        "id": "tWFu7PSReGIi",
        "outputId": "edfbd16d-96e4-4794-cabf-6a266784cae7"
      },
      "outputs": [
        {
          "name": "stdout",
          "output_type": "stream",
          "text": [
            "El servidor alcanza la máxima temperatura transcurridas 3 horas desde el inicio de la jornada laboral y es 24.5°C.\n"
          ]
        }
      ],
      "source": [
        "#Cálculo de la máxima temperatura para t = 3\n",
        "t1 = 3\n",
        "print(f'El servidor alcanza la máxima temperatura transcurridas 3 horas desde el inicio de la jornada laboral y es {T(t1)}°C.')"
      ]
    },
    {
      "cell_type": "markdown",
      "metadata": {
        "id": "LcMvpYzHfZyO"
      },
      "source": [
        "**5)**\n",
        "\n",
        "A las 13:00 horas $t = 5$ y al finalizar la jornada $t = 9$."
      ]
    },
    {
      "cell_type": "code",
      "execution_count": null,
      "metadata": {
        "colab": {
          "base_uri": "https://localhost:8080/"
        },
        "id": "CoUywB7jfj8H",
        "outputId": "f970d3cc-2f68-452d-ce1c-31042940bc02"
      },
      "outputs": [
        {
          "name": "stdout",
          "output_type": "stream",
          "text": [
            "La temperatura del servidor a las 13:00 horas es 22.5 °C y al finalizar la jornada laboral es 6.5 °C.\n"
          ]
        }
      ],
      "source": [
        "t2 = 5\n",
        "t3 = 9\n",
        "\n",
        "print(f'La temperatura del servidor a las 13:00 horas es {T(t2)} °C y al finalizar la jornada laboral es {T(t3)} °C.')"
      ]
    },
    {
      "cell_type": "markdown",
      "metadata": {
        "id": "pD_SzSu3jBkn"
      },
      "source": [
        "# Problema 7"
      ]
    },
    {
      "cell_type": "markdown",
      "metadata": {
        "id": "OJyAOwerjJ5m"
      },
      "source": [
        "El número de usuarios de una red social se puede modelar mediante la función:\n",
        "\n",
        "$$U(t) = \\frac{1.000}{1+9e^{-0.5t}}$$\n",
        "\n",
        "donde $t$ corresponde al tiempo transcurrido en meses.\n",
        "\n",
        "1.  Defina variable dependiente e independiente, indicando unidad de medida.\n",
        "2.  Determine la cantidad de usuarios transcurridos $12$ meses.\n",
        "3.  Grafique la función, utilizando la librería *Matplotlib*, para los primeros dos años de funcionamiento.\n",
        "4.  ¿Cuánto tiempo debe pasar para que la red social llegue a $800$ usuarios?"
      ]
    },
    {
      "cell_type": "markdown",
      "metadata": {
        "id": "Ta6CAnMVkSa-"
      },
      "source": [
        "## Solución"
      ]
    },
    {
      "cell_type": "markdown",
      "metadata": {
        "id": "BWTG1iceka3Z"
      },
      "source": [
        "**1)**\n",
        "\n",
        "**Variable dependiente**: Cantidad de usuarios (unidades)\n",
        "\n",
        "**Variable independiente**: Tiempo transcurrido (meses)"
      ]
    },
    {
      "cell_type": "markdown",
      "metadata": {
        "id": "j09t-jkski0Y"
      },
      "source": [
        "**2)**"
      ]
    },
    {
      "cell_type": "code",
      "execution_count": null,
      "metadata": {
        "colab": {
          "base_uri": "https://localhost:8080/"
        },
        "id": "hCo6zms1kxMp",
        "outputId": "67ac4fce-b270-4ca8-8547-a5862be9059d"
      },
      "outputs": [
        {
          "name": "stdout",
          "output_type": "stream",
          "text": [
            "Transcurridos 12 meses la red social tiene 978 usuarios aproximadamente.\n"
          ]
        }
      ],
      "source": [
        "import numpy as np\n",
        "\n",
        "def U(t):\n",
        "  return 1000/(1 + 9 * np.exp(-0.5 * t))\n",
        "\n",
        "# Transcurridos 12 meses\n",
        "t = 12\n",
        "print(f'Transcurridos {t} meses la red social tiene {U(t):.0f} usuarios aproximadamente.')"
      ]
    },
    {
      "cell_type": "markdown",
      "metadata": {
        "id": "oaqczSoDrMOA"
      },
      "source": [
        "**3)** Gráfico de la función"
      ]
    },
    {
      "cell_type": "code",
      "execution_count": null,
      "metadata": {
        "colab": {
          "base_uri": "https://localhost:8080/",
          "height": 472
        },
        "id": "g5s_CTCfqOPQ",
        "outputId": "b3716a93-0e16-4637-f414-16ad78263c9e"
      },
      "outputs": [
        {
          "data": {
            "image/png": "[encoded data removed]",
            "text/plain": [
              "<Figure size 640x480 with 1 Axes>"
            ]
          },
          "metadata": {},
          "output_type": "display_data"
        }
      ],
      "source": [
        "import matplotlib.pyplot as plt\n",
        "import matplotlib.ticker as ticker\n",
        "import numpy as np\n",
        "\n",
        "fig, ax = plt.subplots()\n",
        "\n",
        "t = np.arange(0, 24, 0.1)\n",
        "\n",
        "plt.plot(t, U(t))\n",
        "\n",
        "\n",
        "plt.title('Relación entre cantidad de usuarios de una red social y el tiempo transcurrido')\n",
        "plt.xlabel('Tiempo transcurrido (meses)')\n",
        "plt.ylabel('Cantidad de usuarios (unidades)')\n",
        "\n",
        "\n",
        "plt.grid(True)\n",
        "plt.show()\n"
      ]
    },
    {
      "cell_type": "markdown",
      "metadata": {
        "id": "ITPLkQrMrSIK"
      },
      "source": [
        "**4)**"
      ]
    },
    {
      "cell_type": "code",
      "execution_count": null,
      "metadata": {
        "colab": {
          "base_uri": "https://localhost:8080/"
        },
        "id": "b3jQfAwjmf_J",
        "outputId": "70a36dd6-5390-434c-c6e3-5322da04c1ff"
      },
      "outputs": [
        {
          "name": "stdout",
          "output_type": "stream",
          "text": [
            "La red social tendrá 800 usuarios transcurridos 7.2 meses aproximadamente.\n"
          ]
        }
      ],
      "source": [
        "import numpy as np\n",
        "from scipy.optimize import fsolve\n",
        "\n",
        "def u(t):\n",
        "  return 1000 / (1 + 9 * np.exp(-0.5*t)) - 800\n",
        "\n",
        "t = np.linspace(0, 25, 1)\n",
        "sol = fsolve(u, t)\n",
        "\n",
        "print(f'La red social tendrá 800 usuarios transcurridos {sol[0]:.1f} meses aproximadamente.')"
      ]
    },
    {
      "cell_type": "markdown",
      "metadata": {
        "id": "TaZ_E6YwB0I4"
      },
      "source": [
        "# Problema 8"
      ]
    },
    {
      "cell_type": "markdown",
      "metadata": {
        "id": "HwpmaO5cDO43"
      },
      "source": [
        "El tiempo de ejecución de un algoritmo de ordenación (en segundos) se puede modelar mediante la función:\n",
        "\n",
        "$$A(n) = 0,01n^{2} + 0,5n + 2$$\n",
        "\n",
        "donde $n$ corresponde a la cantidad de elementos a ordenar. El algoritmo funciona desde las 23:00 horas hasta las 06:00 horas y debe ordenar $1.562$ elementos.\n",
        "\n",
        "1. Defina variable dependiente e independiente, indicando unidad de medida.\n",
        "2. Determine el dominio contextualizado de la función.\n",
        "3. Determine el tiempo de ejecución para ordenar $1.200$ elementos.\n",
        "4. Grafique, utilizando la biblioteca *Matplotlib*, la función $A(n)$.\n",
        "5. ¿Cuántos elementos ordena luego de $6$ horas de funcionamiento?"
      ]
    },
    {
      "cell_type": "markdown",
      "metadata": {
        "id": "zfdY8O9fOXiu"
      },
      "source": [
        "## Solución"
      ]
    },
    {
      "cell_type": "markdown",
      "metadata": {
        "id": "a7ZyOUONGzY5"
      },
      "source": [
        "**1)**\n",
        "\n",
        "**Variable dependiente**: Tiempo de ejecución (segundos)\n",
        "\n",
        "**Variable independiente**: Cantidad de elementos (unidades)"
      ]
    },
    {
      "cell_type": "markdown",
      "metadata": {
        "id": "ODOKRn7rONx2"
      },
      "source": [
        "**2)**\n",
        "\n",
        "$Dom$ $A(n): [0;1.562]$"
      ]
    },
    {
      "cell_type": "markdown",
      "metadata": {
        "id": "tpySB4o0HfVX"
      },
      "source": [
        "**3)**"
      ]
    },
    {
      "cell_type": "code",
      "execution_count": 2,
      "metadata": {
        "colab": {
          "base_uri": "https://localhost:8080/"
        },
        "id": "pHv7JTC5Gv1B",
        "outputId": "f1dcb7be-e22c-4ad0-d183-417a0ba7c485"
      },
      "outputs": [
        {
          "name": "stdout",
          "output_type": "stream",
          "text": [
            "El tiempo de ejecución del algoritmo al ordenar 1.200 elementos es 15002.0 segundos, equivalente a 4.2 horas aproximadamente.\n"
          ]
        }
      ],
      "source": [
        "def A(n):\n",
        "  return 0.01 * n**2 + 0.5 * n + 2\n",
        "\n",
        "print(f'El tiempo de ejecución del algoritmo al ordenar 1.200 elementos es {A(1200)} segundos, equivalente a {A(1200)/3600:.1f} horas aproximadamente.')\n"
      ]
    },
    {
      "cell_type": "markdown",
      "metadata": {
        "id": "pkBQeM0DIfRX"
      },
      "source": [
        "**4)** Gráfico de la función"
      ]
    },
    {
      "cell_type": "code",
      "execution_count": 4,
      "metadata": {
        "colab": {
          "base_uri": "https://localhost:8080/",
          "height": 472
        },
        "id": "QHpOanVeIiFP",
        "outputId": "39a8d57a-787c-4c75-95b7-18c6c736061a"
      },
      "outputs": [
        {
          "ename": "ModuleNotFoundError",
          "evalue": "No module named 'matplotlib'",
          "output_type": "error",
          "traceback": [
            "\u001b[1;31m---------------------------------------------------------------------------\u001b[0m",
            "\u001b[1;31mModuleNotFoundError\u001b[0m                       Traceback (most recent call last)",
            "Cell \u001b[1;32mIn[4], line 1\u001b[0m\n\u001b[1;32m----> 1\u001b[0m \u001b[38;5;28;01mimport\u001b[39;00m \u001b[38;5;21;01mmatplotlib\u001b[39;00m\u001b[38;5;21;01m.\u001b[39;00m\u001b[38;5;21;01mpyplot\u001b[39;00m \u001b[38;5;28;01mas\u001b[39;00m \u001b[38;5;21;01mplt\u001b[39;00m\n\u001b[0;32m      2\u001b[0m \u001b[38;5;28;01mimport\u001b[39;00m \u001b[38;5;21;01mnumpy\u001b[39;00m \u001b[38;5;28;01mas\u001b[39;00m \u001b[38;5;21;01mnp\u001b[39;00m\n\u001b[0;32m      4\u001b[0m n \u001b[38;5;241m=\u001b[39m np\u001b[38;5;241m.\u001b[39marange(\u001b[38;5;241m0\u001b[39m, \u001b[38;5;241m2500\u001b[39m, \u001b[38;5;241m1\u001b[39m)\n",
            "\u001b[1;31mModuleNotFoundError\u001b[0m: No module named 'matplotlib'"
          ]
        }
      ],
      "source": [
        "import matplotlib.pyplot as plt\n",
        "import numpy as np\n",
        "\n",
        "n = np.arange(0, 2500, 1)\n",
        "\n",
        "plt.plot(n, A(n))\n",
        "\n",
        "plt.title('Relación entre el tiempo de ejecución de un algoritmo y la cantidad de elementos que ordena')\n",
        "plt.xlabel('Cantidad de elementos (unidades)')\n",
        "plt.ylabel('Tiempo de ejecución (segundos)')\n",
        "\n",
        "plt.grid(True)\n",
        "plt.show()\n"
      ]
    },
    {
      "cell_type": "markdown",
      "metadata": {
        "id": "uY3WmBMyKMNm"
      },
      "source": [
        "**5)**\n",
        "\n",
        "$6$ horas de funconamiento equivalen a $6\\cdot 3.600 = 21.600$ segundos.\n",
        "\n",
        "Reemplazando en la función se tiene:\n",
        "\n",
        "$21.600 = 0,01n^{2} + 0,5n + 2$\n",
        "\n",
        "$0 = 0,01n^{2} + 0,5n + 2 - 21.600$\n",
        "\n",
        "$0 = 0,01n^{2} + 0,5n - 21.598$\n",
        "\n",
        "Ahora definimos la nueva función para calcular las soluciones"
      ]
    },
    {
      "cell_type": "code",
      "execution_count": null,
      "metadata": {
        "colab": {
          "base_uri": "https://localhost:8080/"
        },
        "id": "x5QX9yVjKdq5",
        "outputId": "55d9867e-6e4a-4c3f-c748-18addb04e659"
      },
      "outputs": [
        {
          "name": "stdout",
          "output_type": "stream",
          "text": [
            "A las 6 horas de funcionamiento el algoritmo ha ordenado 1445 elementos aproximadamente.\n"
          ]
        }
      ],
      "source": [
        "import numpy as np\n",
        "from scipy.optimize import fsolve\n",
        "\n",
        "#Definiendo la nueva función\n",
        "def tiempo(n):\n",
        "  return 0.01 * n**2 + 0.5 * n - 21598\n",
        "\n",
        "n = np.linspace(0, 5000, 10)\n",
        "\n",
        "solucion = fsolve(tiempo, n)\n",
        "\n",
        "print(f'A las 6 horas de funcionamiento el algoritmo ha ordenado {solucion[0]:.0f} elementos aproximadamente.')"
      ]
    },
    {
      "cell_type": "markdown",
      "metadata": {
        "id": "yOcCVQKdOeGC"
      },
      "source": [
        "# Problema 9"
      ]
    },
    {
      "cell_type": "markdown",
      "metadata": {
        "id": "QZl4iQT2Ognb"
      },
      "source": [
        "El consumo de energía (en $kWh$) de un *Data Center* puede ser modelado por la función:\n",
        "\n",
        " $$E(t) = 50\\cdot log(t + 1) + 200$$\n",
        "\n",
        "donde $t$ corresponde al tiempo (en horas) desde el inicio del monitoreo.\n",
        "\n",
        "1. Defina variable dependiente e independiente, indicando unidad de medida.\n",
        "2. Determine el consumo de energía del *Data Center* después de $5$ horas.\n",
        "3. ¿Luego de cuántas horas el consumo será de $350$ kWh?\n",
        "4. Grafique, utilizando la biblioteca *Matplotlib*, la función $E(t)$."
      ]
    },
    {
      "cell_type": "markdown",
      "metadata": {
        "id": "ecvLnntPB1il"
      },
      "source": [
        "## Solución"
      ]
    },
    {
      "cell_type": "markdown",
      "metadata": {
        "id": "kgGNe0R8SVRF"
      },
      "source": [
        "**1)**\n",
        "\n",
        "**Variable dependiente**: Energía consumida (kWk)\n",
        "\n",
        "**Variable independiente**: Tiempo transcurrido (horas)"
      ]
    },
    {
      "cell_type": "markdown",
      "metadata": {
        "id": "Y0Gd1r8GSUzb"
      },
      "source": [
        "**2)**\n"
      ]
    },
    {
      "cell_type": "code",
      "execution_count": null,
      "metadata": {
        "colab": {
          "base_uri": "https://localhost:8080/"
        },
        "id": "fV5ZUMYtSknt",
        "outputId": "e54b3543-edc5-489f-ed04-f45c7dd3d2d3"
      },
      "outputs": [
        {
          "name": "stdout",
          "output_type": "stream",
          "text": [
            "Transcurridas 5 horas el Data Center ha consumido 239 kWh aproximadamente.\n"
          ]
        }
      ],
      "source": [
        "def E(t):\n",
        "  return 50 * np.log10(t + 1) + 200\n",
        "\n",
        "print(f'Transcurridas 5 horas el Data Center ha consumido {E(5):.0f} kWh aproximadamente.')"
      ]
    },
    {
      "cell_type": "markdown",
      "metadata": {
        "id": "Rv68BQC7TZfT"
      },
      "source": [
        "**3)**\n",
        "\n",
        "Sabemos que $E(t) = 350$, reemplazamos este valor en la función e igualamos a $0$:\n",
        "\n",
        "$350 = 50\\cdot log(t + 1) + 200$\n",
        "\n",
        "$0 = 50\\cdot log(t + 1) + 200 - 350$\n",
        "\n",
        "$0 = 50\\cdot log(t + 1) - 150$\n",
        "\n",
        "Ahora definimos esta nueva función para calcular con *fsolve*.\n",
        "\n"
      ]
    },
    {
      "cell_type": "code",
      "execution_count": null,
      "metadata": {
        "colab": {
          "base_uri": "https://localhost:8080/"
        },
        "id": "MUoHXH2MUW8V",
        "outputId": "cf75b561-db9f-419c-97ff-11aefcf90a31"
      },
      "outputs": [
        {
          "name": "stdout",
          "output_type": "stream",
          "text": [
            "Si el Data Center ha consumido 350 kWh es porque ha funcionado 999 horas aproximadamente.\n"
          ]
        }
      ],
      "source": [
        "import numpy as np\n",
        "from scipy.optimize import fsolve\n",
        "\n",
        "#Definimos la nueva función\n",
        "def energia(t):\n",
        "  return 50 * np.log10(t + 1) - 150\n",
        "\n",
        "t = np.linspace(0, 30, 1)\n",
        "solucion = fsolve(energia, t)\n",
        "\n",
        "print(f'Si el Data Center ha consumido 350 kWh es porque ha funcionado {solucion[0]:.0f} horas aproximadamente.')"
      ]
    },
    {
      "cell_type": "markdown",
      "metadata": {
        "id": "HUz4QjoyVLia"
      },
      "source": [
        "**4)** Gráfico de la función"
      ]
    },
    {
      "cell_type": "code",
      "execution_count": null,
      "metadata": {
        "colab": {
          "base_uri": "https://localhost:8080/",
          "height": 472
        },
        "id": "0jfbl82gVPFF",
        "outputId": "768ac46c-d75f-49c8-c525-c0879b057fee"
      },
      "outputs": [
        {
          "data": {
            "image/png": "[encoded data removed]",
            "text/plain": [
              "<Figure size 640x480 with 1 Axes>"
            ]
          },
          "metadata": {},
          "output_type": "display_data"
        }
      ],
      "source": [
        "import matplotlib.pyplot as plt\n",
        "import numpy as np\n",
        "\n",
        "def E(t):\n",
        "  return 50 * np.log10(t + 1) + 200\n",
        "\n",
        "t = np.arange(0, 1000, 1)\n",
        "\n",
        "plt.plot(t,E(t))\n",
        "\n",
        "plt.title('Relación entre la energía consumida por el Data Center y el tiempo transcurrido')\n",
        "plt.xlabel('Tiempo transcurrido (horas)')\n",
        "plt.ylabel('Energía consumida (kWh)')\n",
        "\n",
        "plt.grid(True)\n",
        "plt.show()"
      ]
    },
    {
      "cell_type": "markdown",
      "metadata": {
        "id": "OHKN7SIFyh2-"
      },
      "source": [
        "# Problema 10"
      ]
    },
    {
      "cell_type": "markdown",
      "metadata": {
        "id": "T1ooPV9Ny4mr"
      },
      "source": [
        "En gestión de proyectos, es crucial entender cómo se distribuye la carga de trabajo a lo largo del tiempo para planificar recursos, tiempo y esfuerzos de manera eficiente. Un fenómeno común es la disminución exponencial de la carga de trabajo, donde el esfuerzo requerido es mayor al inicio del proyecto y disminuye gradualmente a medida que se completan las tareas principales.\n",
        "\n",
        "Esta disminución exponencial puede modelarse matemáticamente para predecir y gestionar el trabajo de manera efectiva.\n",
        "\n",
        "<br>\n",
        "\n",
        "Un estudio sobre gestión de proyectos sostiene que la carga de trabajo en un proyecto (en porcentaje) puede ser modelada por la función:\n",
        "\n",
        "$$W(t) = 100e^{-0.1t}$$\n",
        "\n",
        "donde $t$ corresponde al tiempo transcurrido (en semanas) desde el inicio del proyecto.\n",
        "\n",
        "1. Defina variable dependiente e independiente, indicando unidad de medida.\n",
        "2. Determine la carga de trabajo al inicio del proyecto.\n",
        "3. ¿Cuál será la carga de trabajo luego de transcurridas $4$ semanas desde el inicio del proyecto?\n",
        "4. Si el proyecto duró $12$ semanas, ¿es correcto afirmar que la carga de trabajo llegó al $20\\%$?\n",
        "5. ¿Cuántas semanas han pasado desde el inicio del proyecto para que la carga de trabajo sea de $55\\%$?\n",
        "6. Utilizando *Matplotlib*, grafique la función considerando un tiempo máximo de $12$ semanas."
      ]
    },
    {
      "cell_type": "markdown",
      "metadata": {
        "id": "6lPIhjEwB5rd"
      },
      "source": [
        "## Solución"
      ]
    },
    {
      "cell_type": "markdown",
      "metadata": {
        "id": "1pcEx9gu6UC_"
      },
      "source": [
        "**1)**\n",
        "\n",
        "**Variable dependiente**: Carga de trabajo (porcentaje)\n",
        "\n",
        "**Variable independiente**: Tiempo transcurrido (semanas)"
      ]
    },
    {
      "cell_type": "markdown",
      "metadata": {
        "id": "54GUbY7k68Qx"
      },
      "source": [
        "**2)**\n",
        "\n",
        "Al inicio del proyecto $t = 0$."
      ]
    },
    {
      "cell_type": "code",
      "execution_count": null,
      "metadata": {
        "colab": {
          "base_uri": "https://localhost:8080/"
        },
        "id": "1qVFvQxG1KrA",
        "outputId": "511e36f5-b85c-4819-ed8d-0f9c5e99d81d"
      },
      "outputs": [
        {
          "name": "stdout",
          "output_type": "stream",
          "text": [
            "La carga de trabajo al inicio del proyecto es 100%. \n"
          ]
        }
      ],
      "source": [
        "def W(t):\n",
        "  return 100 * np.exp(-0.1 * t)\n",
        "\n",
        "print(f'La carga de trabajo al inicio del proyecto es {W(0):.0f}%.')"
      ]
    },
    {
      "cell_type": "markdown",
      "metadata": {
        "id": "0lpAjASQ7xVM"
      },
      "source": [
        "**3)**\n"
      ]
    },
    {
      "cell_type": "code",
      "execution_count": null,
      "metadata": {
        "colab": {
          "base_uri": "https://localhost:8080/"
        },
        "id": "7YdT-8Zc743M",
        "outputId": "0fd41561-5887-4e22-e1bd-b664aa37a4c2"
      },
      "outputs": [
        {
          "name": "stdout",
          "output_type": "stream",
          "text": [
            "Transcurridas 4 semanas la carga de trabajo es 67%.\n"
          ]
        }
      ],
      "source": [
        "print(f'Transcurridas 4 semanas la carga de trabajo es {W(4):.0f}%.')"
      ]
    },
    {
      "cell_type": "markdown",
      "metadata": {
        "id": "Gz6NJP8G9nXA"
      },
      "source": [
        "**4)**"
      ]
    },
    {
      "cell_type": "code",
      "execution_count": null,
      "metadata": {
        "colab": {
          "base_uri": "https://localhost:8080/"
        },
        "id": "ncvsjvFD94IE",
        "outputId": "bd0734e1-ea5b-4b6f-deec-d8872be7e0c2"
      },
      "outputs": [
        {
          "name": "stdout",
          "output_type": "stream",
          "text": [
            "30.1194211912202\n",
            "\n",
            "Transcurridas 12 semanas desde el inicio del proyecto la carga de trabajo es 30%, por lo tanto, no es correcto afirmar que la carga es del 20%.\n"
          ]
        }
      ],
      "source": [
        "print(f'{W(12)}\\n')\n",
        "\n",
        "print(f'Transcurridas 12 semanas desde el inicio del proyecto la carga de trabajo es {W(12):.0f}%, por lo tanto, no es correcto afirmar que la carga es del 20%.')"
      ]
    },
    {
      "cell_type": "markdown",
      "metadata": {
        "id": "u82pkXsm8NRQ"
      },
      "source": [
        "**5)**\n",
        "\n",
        "$W(t) = 55$\n",
        "\n",
        "$55 = 100e^{-0,1t}$\n",
        "\n",
        "$0 = 100e^{-0,1t} - 55$"
      ]
    },
    {
      "cell_type": "code",
      "execution_count": 1,
      "metadata": {
        "colab": {
          "base_uri": "https://localhost:8080/"
        },
        "id": "dzUQQneL8Qzj",
        "outputId": "c73dcc8e-a3a6-4f6a-932b-ea0411c4b396"
      },
      "outputs": [
        {
          "ename": "ModuleNotFoundError",
          "evalue": "No module named 'numpy'",
          "output_type": "error",
          "traceback": [
            "\u001b[1;31m---------------------------------------------------------------------------\u001b[0m",
            "\u001b[1;31mModuleNotFoundError\u001b[0m                       Traceback (most recent call last)",
            "Cell \u001b[1;32mIn[1], line 1\u001b[0m\n\u001b[1;32m----> 1\u001b[0m \u001b[38;5;28;01mimport\u001b[39;00m \u001b[38;5;21;01mnumpy\u001b[39;00m \u001b[38;5;28;01mas\u001b[39;00m \u001b[38;5;21;01mnp\u001b[39;00m\n\u001b[0;32m      2\u001b[0m \u001b[38;5;28;01mfrom\u001b[39;00m \u001b[38;5;21;01mscipy\u001b[39;00m\u001b[38;5;21;01m.\u001b[39;00m\u001b[38;5;21;01moptimize\u001b[39;00m \u001b[38;5;28;01mimport\u001b[39;00m fsolve\n\u001b[0;32m      4\u001b[0m \u001b[38;5;66;03m#Definimos la nueva función\u001b[39;00m\n",
            "\u001b[1;31mModuleNotFoundError\u001b[0m: No module named 'numpy'"
          ]
        }
      ],
      "source": [
        "import numpy as np\n",
        "from scipy.optimize import fsolve\n",
        "\n",
        "#Definimos la nueva función\n",
        "def w(t):\n",
        "  return 100 * np.exp(-0.1 * t) - 55\n",
        "\n",
        "t = np.linspace(0, 20, 1)\n",
        "solucion = fsolve(w, t)\n",
        "\n",
        "print(f'Si la carga de trabajo es de 55% es porque han transcurrido {solucion[0]:.0f} semanas aproximadamente desde el inicio del proyecto.')\n",
        "\n"
      ]
    },
    {
      "cell_type": "markdown",
      "metadata": {
        "id": "hY9auou9-otl"
      },
      "source": [
        "**6)** Gráfico de la función"
      ]
    },
    {
      "cell_type": "code",
      "execution_count": null,
      "metadata": {
        "colab": {
          "base_uri": "https://localhost:8080/",
          "height": 472
        },
        "id": "dGU9SjXL-yku",
        "outputId": "282c09d3-4508-41c2-bb92-583e6758917a"
      },
      "outputs": [
        {
          "data": {
            "image/png": "[encoded data removed]",
            "text/plain": [
              "<Figure size 640x480 with 1 Axes>"
            ]
          },
          "metadata": {},
          "output_type": "display_data"
        }
      ],
      "source": [
        "import matplotlib.pyplot as plt\n",
        "import numpy as np\n",
        "\n",
        "t = np.arange(0, 13, 0.1)\n",
        "\n",
        "plt.plot(t, W(t))\n",
        "\n",
        "plt.title('Relación entre la carga de trabajo y el tiempo transcurrido')\n",
        "plt.xlabel('Tiempo transcurrido (semanas)')\n",
        "plt.ylabel('Carga de trabajo (porcentaje)')\n",
        "\n",
        "plt.grid(True)\n",
        "plt.show()\n"
      ]
    }
  ],
  "metadata": {
    "colab": {
      "collapsed_sections": [
        "7NE7jhN82pZO",
        "smz5WOklDua2",
        "obFl669k7zaX",
        "FjudT7CQIfuR",
        "onXaNecUQiE-",
        "rTXUSNkYVLgR",
        "Ta6CAnMVkSa-",
        "zfdY8O9fOXiu",
        "ecvLnntPB1il",
        "6lPIhjEwB5rd"
      ],
      "provenance": [],
      "toc_visible": true
    },
    "kernelspec": {
      "display_name": "Python 3",
      "name": "python3"
    },
    "language_info": {
      "codemirror_mode": {
        "name": "ipython",
        "version": 3
      },
      "file_extension": ".py",
      "mimetype": "text/x-python",
      "name": "python",
      "nbconvert_exporter": "python",
      "pygments_lexer": "ipython3",
      "version": "3.12.6"
    }
  },
  "nbformat": 4,
  "nbformat_minor": 0
}
